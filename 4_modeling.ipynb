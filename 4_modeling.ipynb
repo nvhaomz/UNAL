{
  "cells": [
    {
      "cell_type": "markdown",
      "id": "95a353ad",
      "metadata": {
        "id": "95a353ad"
      },
      "source": [
        "<img src = \"https://drive.google.com/uc?export=view&id=1FNyRcLn_ZqLm263UvW1gEDW1_QaTr9hG\" alt = \"Encabezado MLDS\" width = \"100%\">  </img>"
      ]
    },
    {
      "cell_type": "code",
      "source": [
        "# @title Instalar dependencias\n",
        "\n",
        "!pip install keras-tuner --upgrade\n"
      ],
      "metadata": {
        "cellView": "form",
        "id": "akue81ayhPba",
        "outputId": "a1160d17-28b3-49cb-bd2d-f5fea423e494",
        "colab": {
          "base_uri": "https://localhost:8080/"
        }
      },
      "id": "akue81ayhPba",
      "execution_count": 1,
      "outputs": [
        {
          "output_type": "stream",
          "name": "stdout",
          "text": [
            "Looking in indexes: https://pypi.org/simple, https://us-python.pkg.dev/colab-wheels/public/simple/\n",
            "Collecting keras-tuner\n",
            "  Downloading keras_tuner-1.3.5-py3-none-any.whl (176 kB)\n",
            "\u001b[2K     \u001b[90m━━━━━━━━━━━━━━━━━━━━━━━━━━━━━━━━━━━━━━━\u001b[0m \u001b[32m176.1/176.1 kB\u001b[0m \u001b[31m6.4 MB/s\u001b[0m eta \u001b[36m0:00:00\u001b[0m\n",
            "\u001b[?25hCollecting kt-legacy\n",
            "  Downloading kt_legacy-1.0.5-py3-none-any.whl (9.6 kB)\n",
            "Requirement already satisfied: packaging in /usr/local/lib/python3.10/dist-packages (from keras-tuner) (23.1)\n",
            "Requirement already satisfied: requests in /usr/local/lib/python3.10/dist-packages (from keras-tuner) (2.27.1)\n",
            "Requirement already satisfied: urllib3<1.27,>=1.21.1 in /usr/local/lib/python3.10/dist-packages (from requests->keras-tuner) (1.26.15)\n",
            "Requirement already satisfied: charset-normalizer~=2.0.0 in /usr/local/lib/python3.10/dist-packages (from requests->keras-tuner) (2.0.12)\n",
            "Requirement already satisfied: idna<4,>=2.5 in /usr/local/lib/python3.10/dist-packages (from requests->keras-tuner) (3.4)\n",
            "Requirement already satisfied: certifi>=2017.4.17 in /usr/local/lib/python3.10/dist-packages (from requests->keras-tuner) (2022.12.7)\n",
            "Installing collected packages: kt-legacy, keras-tuner\n",
            "Successfully installed keras-tuner-1.3.5 kt-legacy-1.0.5\n"
          ]
        }
      ]
    },
    {
      "cell_type": "code",
      "source": [
        "# @title Importar paquetes\n",
        "\n",
        "import numpy as np\n",
        "import keras\n",
        "from tensorflow.keras.datasets import mnist \n",
        "from skimage.filters import rank\n",
        "from skimage.transform import resize\n",
        "import matplotlib.pyplot as plt\n",
        "\n",
        "\n",
        "from tensorflow.keras.preprocessing.image import ImageDataGenerator\n",
        "from tensorflow.keras import optimizers\n",
        "from tensorflow.keras.models import Sequential\n",
        "from tensorflow.keras.layers import Dropout, Flatten, Dense, Activation\n",
        "from tensorflow.keras.layers import  Convolution2D, MaxPooling2D\n",
        "from tensorflow.keras import backend as K\n",
        "import keras_tuner as kt"
      ],
      "metadata": {
        "cellView": "form",
        "id": "ZC9LTGIegTk9"
      },
      "id": "ZC9LTGIegTk9",
      "execution_count": 2,
      "outputs": []
    },
    {
      "cell_type": "markdown",
      "id": "db98c1e5",
      "metadata": {
        "id": "db98c1e5"
      },
      "source": [
        "# **Entrenamiento y Validación**\n",
        "---\n",
        "\n",
        "Este notebook es una plantilla que le puede servir como guía para el cuarto entregable del proyecto aplicado."
      ]
    },
    {
      "cell_type": "markdown",
      "id": "8a04b1d3",
      "metadata": {
        "id": "8a04b1d3"
      },
      "source": [
        "## **1. Entrenamiento del Modelo y Selección de Hiperparámetros**\n",
        "---\n",
        "\n",
        "Si está utilizando un modelo que requiere entrenamiento, deberá entrenarlo y seleccionar un conjunto de hiperparámetros válido para el mismo. Recuerde que tiene diversas erramientas para hacer validación."
      ]
    },
    {
      "cell_type": "code",
      "execution_count": 3,
      "id": "3d2e6e40",
      "metadata": {
        "id": "3d2e6e40"
      },
      "outputs": [],
      "source": [
        "# @title Espacio de hiperparámetros\n",
        "\n",
        "filter_number = [1,7] #Variable de rango\n",
        "filter_size = [3,5,7]#Variable de selección\n",
        "emb_size = [16, 256]#Variable de rango\n",
        "pooling_size = [2,3]#Variable de selección"
      ]
    },
    {
      "cell_type": "code",
      "source": [
        "# @title Generador de modelos\n",
        "\n",
        "def build_model(hp):\n",
        "\n",
        "  filter_number_parameter = hp.Int(\"Filter number\", min_value=np.min(filter_number), max_value=np.max(filter_number), step=1) \n",
        "  filter_size_parameter = hp.Choice('Filter size', filter_size)\n",
        "  emb_size_parameter = hp.Int(\"Embedding size\", min_value=np.min(emb_size), max_value=np.max(emb_size), step=16)\n",
        "  pooling_size_parameter = hp.Choice('Pooling size', pooling_size)\n",
        "\n",
        "\n",
        "  cnn = Sequential()\n",
        "  cnn.add(Convolution2D(filter_number_parameter, (filter_size_parameter, filter_size_parameter), padding =\"same\", input_shape=(50, 50,1), activation='relu'))\n",
        "  cnn.add(MaxPooling2D(pool_size=(pooling_size_parameter, pooling_size_parameter)))\n",
        "\n",
        "  cnn.add(Convolution2D(filter_number_parameter, (filter_size_parameter, filter_size_parameter), padding =\"same\"))\n",
        "  cnn.add(MaxPooling2D(pool_size=(pooling_size_parameter, pooling_size_parameter)))\n",
        "\n",
        "  cnn.add(Flatten())\n",
        "  cnn.add(Dense(emb_size_parameter, activation='relu'))\n",
        "  cnn.add(Dense(10, activation='softmax'))\n",
        "\n",
        "  cnn.compile(loss='categorical_crossentropy',\n",
        "              optimizer=optimizers.Adam(learning_rate=1e-3),\n",
        "              metrics=['accuracy'])\n",
        "\n",
        "  return cnn\n",
        "\n",
        "cnn = build_model(kt.HyperParameters())\n",
        "cnn.summary()"
      ],
      "metadata": {
        "cellView": "form",
        "id": "mN_DklgGjiYF",
        "outputId": "64a8b175-5e76-4203-d352-9e30cfe2d316",
        "colab": {
          "base_uri": "https://localhost:8080/"
        }
      },
      "id": "mN_DklgGjiYF",
      "execution_count": 4,
      "outputs": [
        {
          "output_type": "stream",
          "name": "stdout",
          "text": [
            "Model: \"sequential\"\n",
            "_________________________________________________________________\n",
            " Layer (type)                Output Shape              Param #   \n",
            "=================================================================\n",
            " conv2d (Conv2D)             (None, 50, 50, 1)         10        \n",
            "                                                                 \n",
            " max_pooling2d (MaxPooling2D  (None, 25, 25, 1)        0         \n",
            " )                                                               \n",
            "                                                                 \n",
            " conv2d_1 (Conv2D)           (None, 25, 25, 1)         10        \n",
            "                                                                 \n",
            " max_pooling2d_1 (MaxPooling  (None, 12, 12, 1)        0         \n",
            " 2D)                                                             \n",
            "                                                                 \n",
            " flatten (Flatten)           (None, 144)               0         \n",
            "                                                                 \n",
            " dense (Dense)               (None, 16)                2320      \n",
            "                                                                 \n",
            " dense_1 (Dense)             (None, 10)                170       \n",
            "                                                                 \n",
            "=================================================================\n",
            "Total params: 2,510\n",
            "Trainable params: 2,510\n",
            "Non-trainable params: 0\n",
            "_________________________________________________________________\n"
          ]
        }
      ]
    },
    {
      "cell_type": "code",
      "source": [
        "# @title Generador de datos\n",
        "\n",
        "class DataGenerator(keras.utils.Sequence):\n",
        "\n",
        "    #Generates data for Keras\n",
        "      #train(bool): vamos a tomar el conjunto de entranmiento o validación?.\n",
        "      #blur_rate(float): rate of bluring filter.\n",
        "      #noise_rate(float): signal to noise ratio.\n",
        "      #augmentation_rate(float): probabilitie of augmentation\n",
        "      #batch_size(int): tamaño del conjunto por paso.\n",
        "      #dim(array): tamaño final de la imagen.\n",
        "      #shuffle(bool): variación aleatoria de los conjuntos por paso?.\n",
        "    def __init__(self, train, blur_rate=0.1, noise_rate = 0.1, augmentation_rate=0.5, batch_size=32, dim=(32,32), shuffle=True):\n",
        "      # Intialize values *\n",
        "      self.train = train\n",
        "      self.blur_rate = blur_rate\n",
        "      self.noise_rate = noise_rate\n",
        "      self.augmentation_rate = augmentation_rate\n",
        "      self.batch_size = batch_size\n",
        "      self.dim = dim\n",
        "      self.shuffle = shuffle\n",
        "\n",
        "      self.load_data()\n",
        "      self.on_epoch_end()\n",
        "\n",
        "    def load_data(self):\n",
        "      #Load dataset\n",
        "      (x_train, y_train), (x_test, y_test) = keras.datasets.mnist.load_data()\n",
        "\n",
        "      if self.train == True:\n",
        "        self.X = x_train\n",
        "        self.Y = y_train\n",
        "      else:\n",
        "        self.X = x_test\n",
        "        self.Y = y_test\n",
        "\n",
        "    def add_noise(self, im):\n",
        "      #Add noise\n",
        "      noise_mag = np.max(im) * self.noise_rate\n",
        "      noise_im = im + (noise_mag * np.random.rand(im.shape[0],im.shape[1]))\n",
        "      return noise_im\n",
        "\n",
        "    def add_blur(self, im):\n",
        "      #Add blur\n",
        "      filter_size = [int(im.shape[0]*self.noise_rate), int(im.shape[1]*self.noise_rate)]\n",
        "      blur_im = rank.mean(im, footprint=np.ones(filter_size))\n",
        "      return blur_im\n",
        "\n",
        "    def normalize_image(self,im):\n",
        "      im = (im - np.min(im))/(np.max(im) - np.min(im))\n",
        "      return(im)\n",
        "\n",
        "    def __len__(self):\n",
        "        #Denotes the number of batches per epoch*\n",
        "        return int(np.floor(len(self.Y) / self.batch_size))\n",
        "\n",
        "    def __getitem__(self, index):\n",
        "        #Generate one batch of data*\n",
        "\n",
        "        # Generate indexes of the batch\n",
        "        indexes = self.indexes[index*self.batch_size:(index+1)*self.batch_size]\n",
        "\n",
        "        # Generate data\n",
        "        X, y = self.__data_generation(indexes)\n",
        "\n",
        "        return X, y\n",
        "\n",
        "    def on_epoch_end(self):\n",
        "        #Updates indexes after each epoch*\n",
        "        self.indexes = np.arange(len(self.Y))\n",
        "        if self.shuffle == True:\n",
        "            np.random.shuffle(self.indexes)\n",
        "\n",
        "    def __data_generation(self, indexes):\n",
        "      #Generates data containing batch_size samples*\n",
        "      # Initialization\n",
        "      X = []\n",
        "      Y = []\n",
        "\n",
        "      # Generate data\n",
        "      for index in indexes:\n",
        "        im = self.X[index]\n",
        "        y = self.Y[index]\n",
        "\n",
        "        transform = np.random.rand() < self.augmentation_rate\n",
        "        \n",
        "        if transform == False:\n",
        "          im = resize(im, self.dim, anti_aliasing=True)\n",
        "          im = self.normalize_image(im)\n",
        "        else:\n",
        "          im = resize(im, self.dim, anti_aliasing=True)\n",
        "          #im = self.add_blur(im)\n",
        "          im = self.add_noise(im)\n",
        "          im = self.normalize_image(im)\n",
        "        \n",
        "        X.append(im)\n",
        "        Y.append(y)\n",
        "\n",
        "      X = np.array(X)\n",
        "      Y = np.array(Y)\n",
        "      Y =  keras.utils.to_categorical(Y, num_classes=10)\n",
        "      return (X,Y)\n"
      ],
      "metadata": {
        "cellView": "form",
        "id": "USGQyLJzmuQJ"
      },
      "id": "USGQyLJzmuQJ",
      "execution_count": 5,
      "outputs": []
    },
    {
      "cell_type": "code",
      "source": [
        "training_generator = DataGenerator(True, blur_rate=0.1, noise_rate = 0.25, augmentation_rate=0.5, batch_size=32, dim=(50,50), shuffle=True)\n",
        "test_generator = DataGenerator(False, blur_rate=0.1, noise_rate = 0.25, augmentation_rate=0, batch_size=1000, dim=(50,50), shuffle=True)"
      ],
      "metadata": {
        "id": "YPvVoS_Gm3qH",
        "outputId": "330f6312-3ff3-4eb0-c420-b609a303c764",
        "colab": {
          "base_uri": "https://localhost:8080/"
        }
      },
      "id": "YPvVoS_Gm3qH",
      "execution_count": 6,
      "outputs": [
        {
          "output_type": "stream",
          "name": "stdout",
          "text": [
            "Downloading data from https://storage.googleapis.com/tensorflow/tf-keras-datasets/mnist.npz\n",
            "11490434/11490434 [==============================] - 0s 0us/step\n"
          ]
        }
      ]
    },
    {
      "cell_type": "code",
      "source": [
        "# @title Busqueda de hiperparametros\n",
        "\n",
        "# Modelo de busqueda \n",
        "\n",
        "tuner = kt.RandomSearch(\n",
        "    hypermodel=build_model,\n",
        "    objective=\"val_accuracy\",\n",
        "    max_trials=10,\n",
        "    executions_per_trial=2,\n",
        "    overwrite=True,\n",
        "    directory=\"\",\n",
        "    project_name=\"mnist\",\n",
        ")\n",
        "\n",
        "# Busqueda\n",
        "tuner.search(training_generator, epochs=5, validation_data=(test_generator))"
      ],
      "metadata": {
        "cellView": "form",
        "id": "V3ocJF9inT9G",
        "outputId": "ea7ae132-a7f5-4fe9-bd81-bbd6aa62189f",
        "colab": {
          "base_uri": "https://localhost:8080/"
        }
      },
      "id": "V3ocJF9inT9G",
      "execution_count": 7,
      "outputs": [
        {
          "output_type": "stream",
          "name": "stdout",
          "text": [
            "Trial 10 Complete [00h 06m 20s]\n",
            "val_accuracy: 0.9837499856948853\n",
            "\n",
            "Best val_accuracy So Far: 0.9887000024318695\n",
            "Total elapsed time: 01h 04m 06s\n"
          ]
        }
      ]
    },
    {
      "cell_type": "code",
      "source": [
        "tuner.results_summary()"
      ],
      "metadata": {
        "id": "MbSb-0Md5opX",
        "outputId": "5da0d92e-2739-44fc-ee47-82943dde7fb9",
        "colab": {
          "base_uri": "https://localhost:8080/"
        }
      },
      "id": "MbSb-0Md5opX",
      "execution_count": 9,
      "outputs": [
        {
          "output_type": "stream",
          "name": "stdout",
          "text": [
            "Results summary\n",
            "Results in ./mnist\n",
            "Showing 10 best trials\n",
            "Objective(name=\"val_accuracy\", direction=\"max\")\n",
            "\n",
            "Trial 05 summary\n",
            "Hyperparameters:\n",
            "Filter number: 7\n",
            "Filter size: 7\n",
            "Embedding size: 176\n",
            "Pooling size: 2\n",
            "Score: 0.9887000024318695\n",
            "\n",
            "Trial 03 summary\n",
            "Hyperparameters:\n",
            "Filter number: 7\n",
            "Filter size: 7\n",
            "Embedding size: 240\n",
            "Pooling size: 2\n",
            "Score: 0.988649994134903\n",
            "\n",
            "Trial 06 summary\n",
            "Hyperparameters:\n",
            "Filter number: 6\n",
            "Filter size: 7\n",
            "Embedding size: 224\n",
            "Pooling size: 3\n",
            "Score: 0.9885999858379364\n",
            "\n",
            "Trial 01 summary\n",
            "Hyperparameters:\n",
            "Filter number: 4\n",
            "Filter size: 7\n",
            "Embedding size: 224\n",
            "Pooling size: 2\n",
            "Score: 0.9884500205516815\n",
            "\n",
            "Trial 04 summary\n",
            "Hyperparameters:\n",
            "Filter number: 5\n",
            "Filter size: 7\n",
            "Embedding size: 208\n",
            "Pooling size: 3\n",
            "Score: 0.9882000088691711\n",
            "\n",
            "Trial 02 summary\n",
            "Hyperparameters:\n",
            "Filter number: 2\n",
            "Filter size: 7\n",
            "Embedding size: 208\n",
            "Pooling size: 2\n",
            "Score: 0.9846000075340271\n",
            "\n",
            "Trial 09 summary\n",
            "Hyperparameters:\n",
            "Filter number: 5\n",
            "Filter size: 3\n",
            "Embedding size: 80\n",
            "Pooling size: 2\n",
            "Score: 0.9837499856948853\n",
            "\n",
            "Trial 07 summary\n",
            "Hyperparameters:\n",
            "Filter number: 5\n",
            "Filter size: 5\n",
            "Embedding size: 48\n",
            "Pooling size: 3\n",
            "Score: 0.9828000068664551\n",
            "\n",
            "Trial 08 summary\n",
            "Hyperparameters:\n",
            "Filter number: 5\n",
            "Filter size: 3\n",
            "Embedding size: 256\n",
            "Pooling size: 3\n",
            "Score: 0.9824000000953674\n",
            "\n",
            "Trial 00 summary\n",
            "Hyperparameters:\n",
            "Filter number: 2\n",
            "Filter size: 7\n",
            "Embedding size: 224\n",
            "Pooling size: 3\n",
            "Score: 0.9815999865531921\n"
          ]
        }
      ]
    },
    {
      "cell_type": "markdown",
      "id": "8c8e2724",
      "metadata": {
        "id": "8c8e2724"
      },
      "source": [
        "## **2. Evaluación o Aplicación del modelo**\n",
        "---\n",
        "\n",
        "Si entrenó un modelo, recuerde que debe reportar el desempeño del mismo sobre un conjunto de datos no visto (test). Considere que dispone de las siguientes métricas:\n",
        "\n",
        "- **Clasificación**: accuracy, precision, recall, f1-score, AUC.\n",
        "- **Regresión**: $r^2$, error cuadrático medio, error absoluto medio.\n",
        "- **Agrupamiento**: coeficiente de silueta, índice de Davies-Bouldin."
      ]
    },
    {
      "cell_type": "code",
      "execution_count": 16,
      "id": "61f88011",
      "metadata": {
        "id": "61f88011",
        "outputId": "9a71bea9-86b8-4739-aa70-64a998d2b2a3",
        "colab": {
          "base_uri": "https://localhost:8080/"
        }
      },
      "outputs": [
        {
          "output_type": "stream",
          "name": "stdout",
          "text": [
            "Epoch 1/5\n",
            "1875/1875 [==============================] - 39s 20ms/step - loss: 0.1469 - accuracy: 0.9553 - val_loss: 0.0689 - val_accuracy: 0.9767\n",
            "Epoch 2/5\n",
            "1875/1875 [==============================] - 36s 19ms/step - loss: 0.0512 - accuracy: 0.9844 - val_loss: 0.0436 - val_accuracy: 0.9862\n",
            "Epoch 3/5\n",
            "1875/1875 [==============================] - 37s 20ms/step - loss: 0.0363 - accuracy: 0.9884 - val_loss: 0.0536 - val_accuracy: 0.9836\n",
            "Epoch 4/5\n",
            "1875/1875 [==============================] - 37s 20ms/step - loss: 0.0279 - accuracy: 0.9911 - val_loss: 0.0566 - val_accuracy: 0.9831\n",
            "Epoch 5/5\n",
            "1875/1875 [==============================] - 37s 19ms/step - loss: 0.0225 - accuracy: 0.9929 - val_loss: 0.0516 - val_accuracy: 0.9870\n"
          ]
        },
        {
          "output_type": "execute_result",
          "data": {
            "text/plain": [
              "<keras.callbacks.History at 0x7ff05c2718d0>"
            ]
          },
          "metadata": {},
          "execution_count": 16
        }
      ],
      "source": [
        "best_hps = tuner.get_best_hyperparameters(1)[0]\n",
        "\n",
        "cnn = build_model(best_hps)\n",
        "cnn.fit(training_generator, epochs=5, validation_data=(test_generator))"
      ]
    },
    {
      "cell_type": "markdown",
      "id": "0cd6d281",
      "metadata": {
        "id": "0cd6d281"
      },
      "source": [
        "Adicionalmente, si utilizó un modelo pre-entrenado, debe generar predicciones y mostrar el resultado final de la aplicación del modelo sobre sus datos:"
      ]
    },
    {
      "cell_type": "code",
      "execution_count": 25,
      "id": "700faaef",
      "metadata": {
        "id": "700faaef",
        "outputId": "0fc8140c-8e8d-4ff2-a832-157355a79835",
        "colab": {
          "base_uri": "https://localhost:8080/",
          "height": 1000
        }
      },
      "outputs": [
        {
          "output_type": "stream",
          "name": "stdout",
          "text": [
            "32/32 [==============================] - 0s 2ms/step\n",
            "[0 0 0 0 0 0 0 1 0 0]\n"
          ]
        },
        {
          "output_type": "display_data",
          "data": {
            "text/plain": [
              "<Figure size 640x480 with 1 Axes>"
            ],
            "image/png": "[encoded data removed]"
          },
          "metadata": {}
        },
        {
          "output_type": "stream",
          "name": "stdout",
          "text": [
            "[0 1 0 0 0 0 0 0 0 0]\n"
          ]
        },
        {
          "output_type": "display_data",
          "data": {
            "text/plain": [
              "<Figure size 640x480 with 1 Axes>"
            ],
            "image/png": "[encoded data removed]"
          },
          "metadata": {}
        },
        {
          "output_type": "stream",
          "name": "stdout",
          "text": [
            "[0 0 0 0 1 0 0 0 0 0]\n"
          ]
        },
        {
          "output_type": "display_data",
          "data": {
            "text/plain": [
              "<Figure size 640x480 with 1 Axes>"
            ],
            "image/png": "[encoded data removed]"
          },
          "metadata": {}
        },
        {
          "output_type": "stream",
          "name": "stdout",
          "text": [
            "[0 0 1 0 0 0 0 0 0 0]\n"
          ]
        },
        {
          "output_type": "display_data",
          "data": {
            "text/plain": [
              "<Figure size 640x480 with 1 Axes>"
            ],
            "image/png": "[encoded data removed]"
          },
          "metadata": {}
        },
        {
          "output_type": "stream",
          "name": "stdout",
          "text": [
            "[1 0 0 0 0 0 0 0 0 0]\n"
          ]
        },
        {
          "output_type": "display_data",
          "data": {
            "text/plain": [
              "<Figure size 640x480 with 1 Axes>"
            ],
            "image/png": "[encoded data removed]"
          },
          "metadata": {}
        }
      ],
      "source": [
        "x,y = test_generator.__getitem__(0)\n",
        "y_pred = cnn.predict(x)\n",
        "\n",
        "for i in range (5):\n",
        "  v = np.random.randint(0, high=32)\n",
        "  \n",
        "  image = x[v]\n",
        "  pred = y_pred[v]\n",
        "\n",
        "  print(1*(pred==np.max(pred)))\n",
        "  plt.imshow(image)\n",
        "  plt.show()"
      ]
    },
    {
      "cell_type": "markdown",
      "id": "22e4f647",
      "metadata": {
        "id": "22e4f647"
      },
      "source": [
        "# **Créditos**\n",
        "---\n",
        "\n",
        "* **Profesor:** [Fabio Augusto Gonzalez](https://dis.unal.edu.co/~fgonza/)\n",
        "* **Asistentes docentes :**\n",
        "  * [Santiago Toledo Cortés](https://sites.google.com/unal.edu.co/santiagotoledo-cortes/) \n",
        "* **Diseño de imágenes:**\n",
        "    - [Mario Andres Rodriguez Triana](mailto:mrodrigueztr@unal.edu.co).\n",
        "* **Coordinador de virtualización:**\n",
        "    - [Edder Hernández Forero](https://www.linkedin.com/in/edder-hernandez-forero-28aa8b207/).\n",
        "\n",
        "**Universidad Nacional de Colombia** - *Facultad de Ingeniería*"
      ]
    },
    {
      "cell_type": "code",
      "source": [],
      "metadata": {
        "id": "DQm00EJlgQLt"
      },
      "id": "DQm00EJlgQLt",
      "execution_count": null,
      "outputs": []
    }
  ],
  "metadata": {
    "jupytext": {
      "cell_metadata_filter": "-all"
    },
    "kernelspec": {
      "display_name": "Python 3 (ipykernel)",
      "language": "python",
      "name": "python3"
    },
    "colab": {
      "provenance": [],
      "gpuType": "T4"
    },
    "accelerator": "GPU",
    "gpuClass": "standard"
  },
  "nbformat": 4,
  "nbformat_minor": 5
}